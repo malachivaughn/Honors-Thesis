{
 "cells": [
  {
   "cell_type": "code",
   "execution_count": 13,
   "id": "233cb02b",
   "metadata": {},
   "outputs": [],
   "source": [
    "import numpy as np\n",
    "\n",
    "Theta = np.array([\n",
    "    [24/24, 0, 0, 0, 0, 0, 0, 0, 0],\n",
    "    [14/24, 1/24, 0, 1/24, 8/24, 0, 0, 0, 0],\n",
    "    [10/24, 1/24, 0, 1/24, 0, 2/24, 0, 2/24, 8/24],\n",
    "    [8/24, 1/24, 0, 1/24, 14/24, 0, 0, 0, 0],\n",
    "    [0, 0, 0, 0, 24/24, 0, 0, 0, 0],\n",
    "    [0, 0, 0, 0, 12/24, 2/24, 0, 2/24, 8/24],\n",
    "    [8/24, 1/24, 0, 1/24, 0, 2/24, 0, 2/24, 10/24],\n",
    "    [0, 0, 0, 0, 8/24, 2/24, 0, 2/24, 12/24],\n",
    "    [0, 0, 0, 0, 0, 0, 0, 0, 24/24]\n",
    "])\n",
    "\n",
    "w = np.array([\n",
    "    1257,\n",
    "    143,\n",
    "    600,\n",
    "    357,\n",
    "    3080.5,\n",
    "    1562.5,\n",
    "    900,\n",
    "    937.5,\n",
    "    1162.5\n",
    "])\n",
    "\n",
    "p1 = np.dot(np.diag(w),Theta)"
   ]
  },
  {
   "cell_type": "code",
   "execution_count": 20,
   "id": "64e8bdca",
   "metadata": {},
   "outputs": [
    {
     "data": {
      "text/plain": [
       "array([0.7952, 0.0155, 0.    , 0.0155, 0.0238, 0.025 , 0.    , 0.025 ,\n",
       "       0.1   ])"
      ]
     },
     "execution_count": 20,
     "metadata": {},
     "output_type": "execute_result"
    }
   ],
   "source": [
    "row = p1[0]+p1[1]+p1[2]\n",
    "np.round(row/np.sum(row),4)"
   ]
  },
  {
   "cell_type": "code",
   "execution_count": 19,
   "id": "f5f1097c",
   "metadata": {},
   "outputs": [
    {
     "data": {
      "text/plain": [
       "array([0.0238, 0.003 , 0.    , 0.003 , 0.814 , 0.026 , 0.    , 0.026 ,\n",
       "       0.1042])"
      ]
     },
     "execution_count": 19,
     "metadata": {},
     "output_type": "execute_result"
    }
   ],
   "source": [
    "row = p1[3]+p1[4]+p1[5]\n",
    "np.round(row/np.sum(row),4)"
   ]
  },
  {
   "cell_type": "code",
   "execution_count": 21,
   "id": "92bf77a0",
   "metadata": {},
   "outputs": [
    {
     "data": {
      "text/plain": [
       "array([0.1   , 0.0125, 0.    , 0.0125, 0.1042, 0.051 , 0.    , 0.051 ,\n",
       "       0.6688])"
      ]
     },
     "execution_count": 21,
     "metadata": {},
     "output_type": "execute_result"
    }
   ],
   "source": [
    "row = p1[6]+p1[7]+p1[8]\n",
    "np.round(row/np.sum(row),4)"
   ]
  }
 ],
 "metadata": {
  "kernelspec": {
   "display_name": "Python 3 (ipykernel)",
   "language": "python",
   "name": "python3"
  },
  "language_info": {
   "codemirror_mode": {
    "name": "ipython",
    "version": 3
   },
   "file_extension": ".py",
   "mimetype": "text/x-python",
   "name": "python",
   "nbconvert_exporter": "python",
   "pygments_lexer": "ipython3",
   "version": "3.12.3"
  }
 },
 "nbformat": 4,
 "nbformat_minor": 5
}
