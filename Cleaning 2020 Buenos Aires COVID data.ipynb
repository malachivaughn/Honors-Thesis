{
 "cells": [
  {
   "cell_type": "code",
   "execution_count": 3,
   "id": "3eb238cf",
   "metadata": {},
   "outputs": [],
   "source": [
    "import numpy as np\n",
    "import pandas as pd\n",
    "import pickle"
   ]
  },
  {
   "cell_type": "code",
   "execution_count": 12,
   "id": "bfcdc9d1",
   "metadata": {},
   "outputs": [
    {
     "name": "stderr",
     "output_type": "stream",
     "text": [
      "/tmp/ipykernel_1902306/3250208569.py:2: DtypeWarning: Columns (10,11,13) have mixed types. Specify dtype option on import or set low_memory=False.\n",
      "  df = pd.read_csv(\"casos_covid19_2020.csv\")  # Adjust delimiter if needed\n"
     ]
    },
    {
     "name": "stdout",
     "output_type": "stream",
     "text": [
      "   fecha_clasificacion  comuna  daily_cases  cumulative_cases\n",
      "17          2020-03-05     1.0            2                 2\n",
      "29          2020-03-11     1.0            1                 3\n",
      "35          2020-03-12     1.0            2                 5\n",
      "42          2020-03-13     1.0            2                 7\n",
      "50          2020-03-15     1.0            3                10\n"
     ]
    },
    {
     "name": "stderr",
     "output_type": "stream",
     "text": [
      "/tmp/ipykernel_1902306/3250208569.py:11: SettingWithCopyWarning: \n",
      "A value is trying to be set on a copy of a slice from a DataFrame.\n",
      "Try using .loc[row_indexer,col_indexer] = value instead\n",
      "\n",
      "See the caveats in the documentation: https://pandas.pydata.org/pandas-docs/stable/user_guide/indexing.html#returning-a-view-versus-a-copy\n",
      "  df_caba[\"fecha_clasificacion\"] = pd.to_datetime(df_caba[\"fecha_clasificacion\"], errors=\"coerce\", format=\"%d%b%Y\")\n"
     ]
    }
   ],
   "source": [
    "# Load the dataset\n",
    "df = pd.read_csv(\"casos_covid19_2020.csv\")  # Adjust delimiter if needed\n",
    "\n",
    "# Convert column names to lowercase for consistency\n",
    "df.columns = df.columns.str.lower()\n",
    "\n",
    "# Keep only rows where \"provincia\" is CABA\n",
    "df_caba = df[df[\"provincia\"] == \"CABA\"]\n",
    "\n",
    "# Convert 'fecha_clasificacion' to datetime format\n",
    "df_caba[\"fecha_clasificacion\"] = pd.to_datetime(df_caba[\"fecha_clasificacion\"], errors=\"coerce\", format=\"%d%b%Y\")\n",
    "\n",
    "# Drop any rows with invalid or missing classification dates\n",
    "df_caba = df_caba.dropna(subset=[\"fecha_clasificacion\"])\n",
    "\n",
    "# Ensure 'comuna' column exists and is not null\n",
    "if \"comuna\" in df_caba.columns:\n",
    "    df_caba = df_caba.dropna(subset=[\"comuna\"])\n",
    "\n",
    "    # Count cases per day and comuna\n",
    "    daily_cases = df_caba.groupby([\"fecha_clasificacion\", \"comuna\"]).size().reset_index(name=\"daily_cases\")\n",
    "\n",
    "    # Sort by date and comuna\n",
    "    daily_cases = daily_cases.sort_values(by=[\"comuna\", \"fecha_clasificacion\"])\n",
    "\n",
    "    # Compute cumulative cases per comuna\n",
    "    daily_cases[\"cumulative_cases\"] = daily_cases.groupby(\"comuna\")[\"daily_cases\"].cumsum()\n",
    "\n",
    "    # Display result\n",
    "    print(daily_cases.head())  # Adjust for full display\n",
    "else:\n",
    "    print(\"Column 'comuna' not found in the dataset.\")"
   ]
  },
  {
   "cell_type": "code",
   "execution_count": 22,
   "id": "d46e3ad9",
   "metadata": {},
   "outputs": [
    {
     "data": {
      "text/html": [
       "<div>\n",
       "<style scoped>\n",
       "    .dataframe tbody tr th:only-of-type {\n",
       "        vertical-align: middle;\n",
       "    }\n",
       "\n",
       "    .dataframe tbody tr th {\n",
       "        vertical-align: top;\n",
       "    }\n",
       "\n",
       "    .dataframe thead th {\n",
       "        text-align: right;\n",
       "    }\n",
       "</style>\n",
       "<table border=\"1\" class=\"dataframe\">\n",
       "  <thead>\n",
       "    <tr style=\"text-align: right;\">\n",
       "      <th></th>\n",
       "      <th>date</th>\n",
       "      <th>comuna</th>\n",
       "      <th>daily_cases</th>\n",
       "      <th>total_cases</th>\n",
       "    </tr>\n",
       "  </thead>\n",
       "  <tbody>\n",
       "    <tr>\n",
       "      <th>17</th>\n",
       "      <td>2020-03-05</td>\n",
       "      <td>1.0</td>\n",
       "      <td>2</td>\n",
       "      <td>2</td>\n",
       "    </tr>\n",
       "    <tr>\n",
       "      <th>29</th>\n",
       "      <td>2020-03-11</td>\n",
       "      <td>1.0</td>\n",
       "      <td>1</td>\n",
       "      <td>3</td>\n",
       "    </tr>\n",
       "    <tr>\n",
       "      <th>35</th>\n",
       "      <td>2020-03-12</td>\n",
       "      <td>1.0</td>\n",
       "      <td>2</td>\n",
       "      <td>5</td>\n",
       "    </tr>\n",
       "    <tr>\n",
       "      <th>42</th>\n",
       "      <td>2020-03-13</td>\n",
       "      <td>1.0</td>\n",
       "      <td>2</td>\n",
       "      <td>7</td>\n",
       "    </tr>\n",
       "    <tr>\n",
       "      <th>50</th>\n",
       "      <td>2020-03-15</td>\n",
       "      <td>1.0</td>\n",
       "      <td>3</td>\n",
       "      <td>10</td>\n",
       "    </tr>\n",
       "    <tr>\n",
       "      <th>...</th>\n",
       "      <td>...</td>\n",
       "      <td>...</td>\n",
       "      <td>...</td>\n",
       "      <td>...</td>\n",
       "    </tr>\n",
       "    <tr>\n",
       "      <th>5959</th>\n",
       "      <td>2022-01-15</td>\n",
       "      <td>15.0</td>\n",
       "      <td>1</td>\n",
       "      <td>14910</td>\n",
       "    </tr>\n",
       "    <tr>\n",
       "      <th>5963</th>\n",
       "      <td>2022-01-16</td>\n",
       "      <td>15.0</td>\n",
       "      <td>2</td>\n",
       "      <td>14912</td>\n",
       "    </tr>\n",
       "    <tr>\n",
       "      <th>5972</th>\n",
       "      <td>2022-01-17</td>\n",
       "      <td>15.0</td>\n",
       "      <td>1</td>\n",
       "      <td>14913</td>\n",
       "    </tr>\n",
       "    <tr>\n",
       "      <th>5983</th>\n",
       "      <td>2022-01-18</td>\n",
       "      <td>15.0</td>\n",
       "      <td>1</td>\n",
       "      <td>14914</td>\n",
       "    </tr>\n",
       "    <tr>\n",
       "      <th>5995</th>\n",
       "      <td>2022-01-19</td>\n",
       "      <td>15.0</td>\n",
       "      <td>1</td>\n",
       "      <td>14915</td>\n",
       "    </tr>\n",
       "  </tbody>\n",
       "</table>\n",
       "<p>6010 rows × 4 columns</p>\n",
       "</div>"
      ],
      "text/plain": [
       "           date  comuna  daily_cases  total_cases\n",
       "17   2020-03-05     1.0            2            2\n",
       "29   2020-03-11     1.0            1            3\n",
       "35   2020-03-12     1.0            2            5\n",
       "42   2020-03-13     1.0            2            7\n",
       "50   2020-03-15     1.0            3           10\n",
       "...         ...     ...          ...          ...\n",
       "5959 2022-01-15    15.0            1        14910\n",
       "5963 2022-01-16    15.0            2        14912\n",
       "5972 2022-01-17    15.0            1        14913\n",
       "5983 2022-01-18    15.0            1        14914\n",
       "5995 2022-01-19    15.0            1        14915\n",
       "\n",
       "[6010 rows x 4 columns]"
      ]
     },
     "execution_count": 22,
     "metadata": {},
     "output_type": "execute_result"
    }
   ],
   "source": [
    "# Assuming daily_cases is your DataFrame\n",
    "daily_cases = daily_cases.rename(columns={'fecha_clasificacion': 'date'})\n",
    "daily_cases = daily_cases.rename(columns={'cumulative_cases': 'total_cases'})\n",
    "daily_cases"
   ]
  },
  {
   "cell_type": "code",
   "execution_count": 23,
   "id": "20ffb7c9",
   "metadata": {},
   "outputs": [],
   "source": [
    "with open(\"BA_Covid_Data.pkl\", \"wb\") as f:\n",
    "    pickle.dump(daily_cases, f)"
   ]
  }
 ],
 "metadata": {
  "kernelspec": {
   "display_name": "Python 3 (ipykernel)",
   "language": "python",
   "name": "python3"
  },
  "language_info": {
   "codemirror_mode": {
    "name": "ipython",
    "version": 3
   },
   "file_extension": ".py",
   "mimetype": "text/x-python",
   "name": "python",
   "nbconvert_exporter": "python",
   "pygments_lexer": "ipython3",
   "version": "3.12.3"
  }
 },
 "nbformat": 4,
 "nbformat_minor": 5
}
