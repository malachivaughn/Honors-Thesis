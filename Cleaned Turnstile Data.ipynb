{
 "cells": [
  {
   "cell_type": "code",
   "execution_count": 1,
   "id": "0c75eb08",
   "metadata": {},
   "outputs": [],
   "source": [
    "import numpy as np\n",
    "import matplotlib.pyplot as plt\n",
    "import pickle\n",
    "import pandas as pd\n",
    "import os"
   ]
  },
  {
   "cell_type": "code",
   "execution_count": 9,
   "id": "3cb69d91",
   "metadata": {},
   "outputs": [],
   "source": [
    "with open(\"ba_big station list.pkl\", \"rb\") as file:\n",
    "    station_list = pickle.load(file)"
   ]
  },
  {
   "cell_type": "code",
   "execution_count": 2,
   "id": "0ed59cac",
   "metadata": {},
   "outputs": [
    {
     "name": "stdout",
     "output_type": "stream",
     "text": [
      "      FECHA     DESDE     HASTA   LINEA                       MOLINETE  \\\n",
      "0  1/4/2023  05:45:00  06:00:00  LineaH   LineaH_FDerecho_Norte_Turn05   \n",
      "1  1/4/2023  05:45:00  06:00:00  LineaH        LineaH_Patricios_Turn02   \n",
      "2  1/4/2023  05:45:00  06:00:00  LineaE           LineaE_Moreno_Turn02   \n",
      "3  1/4/2023  05:45:00  06:00:00  LineaH    LineaH_Caseros_Norte_Turn02   \n",
      "4  1/4/2023  05:45:00  06:00:00  LineaD  LineaD_Juramento_Oeste_Turn01   \n",
      "\n",
      "              ESTACION  pax_pagos  pax_pases_pagos  pax_franq  pax_TOTAL  \n",
      "0  Facultad de Derecho          1                0          0          1  \n",
      "1            Patricios          4                0          0          4  \n",
      "2    Jose Maria Moreno          2                0          0          2  \n",
      "3              Caseros          0                0          1          1  \n",
      "4            Juramento          1                0          0          1  \n"
     ]
    }
   ],
   "source": [
    "import pandas as pd\n",
    "\n",
    "# Load the CSV file\n",
    "df = pd.read_csv(\"BA_Turnstile_Combined.csv\")\n",
    "\n",
    "# Display the first few rows\n",
    "df.head()"
   ]
  },
  {
   "cell_type": "code",
   "execution_count": 3,
   "id": "381c8ad0",
   "metadata": {},
   "outputs": [
    {
     "data": {
      "text/html": [
       "<div>\n",
       "<style scoped>\n",
       "    .dataframe tbody tr th:only-of-type {\n",
       "        vertical-align: middle;\n",
       "    }\n",
       "\n",
       "    .dataframe tbody tr th {\n",
       "        vertical-align: top;\n",
       "    }\n",
       "\n",
       "    .dataframe thead th {\n",
       "        text-align: right;\n",
       "    }\n",
       "</style>\n",
       "<table border=\"1\" class=\"dataframe\">\n",
       "  <thead>\n",
       "    <tr style=\"text-align: right;\">\n",
       "      <th></th>\n",
       "      <th>FECHA</th>\n",
       "      <th>DESDE</th>\n",
       "      <th>HASTA</th>\n",
       "      <th>LINEA</th>\n",
       "      <th>MOLINETE</th>\n",
       "      <th>ESTACION</th>\n",
       "      <th>pax_pagos</th>\n",
       "      <th>pax_pases_pagos</th>\n",
       "      <th>pax_franq</th>\n",
       "      <th>pax_TOTAL</th>\n",
       "    </tr>\n",
       "  </thead>\n",
       "  <tbody>\n",
       "    <tr>\n",
       "      <th>0</th>\n",
       "      <td>1/4/2023</td>\n",
       "      <td>05:45:00</td>\n",
       "      <td>06:00:00</td>\n",
       "      <td>LineaH</td>\n",
       "      <td>LineaH_FDerecho_Norte_Turn05</td>\n",
       "      <td>Facultad de Derecho</td>\n",
       "      <td>1</td>\n",
       "      <td>0</td>\n",
       "      <td>0</td>\n",
       "      <td>1</td>\n",
       "    </tr>\n",
       "    <tr>\n",
       "      <th>1</th>\n",
       "      <td>1/4/2023</td>\n",
       "      <td>05:45:00</td>\n",
       "      <td>06:00:00</td>\n",
       "      <td>LineaH</td>\n",
       "      <td>LineaH_Patricios_Turn02</td>\n",
       "      <td>Patricios</td>\n",
       "      <td>4</td>\n",
       "      <td>0</td>\n",
       "      <td>0</td>\n",
       "      <td>4</td>\n",
       "    </tr>\n",
       "    <tr>\n",
       "      <th>2</th>\n",
       "      <td>1/4/2023</td>\n",
       "      <td>05:45:00</td>\n",
       "      <td>06:00:00</td>\n",
       "      <td>LineaE</td>\n",
       "      <td>LineaE_Moreno_Turn02</td>\n",
       "      <td>Jose Maria Moreno</td>\n",
       "      <td>2</td>\n",
       "      <td>0</td>\n",
       "      <td>0</td>\n",
       "      <td>2</td>\n",
       "    </tr>\n",
       "    <tr>\n",
       "      <th>3</th>\n",
       "      <td>1/4/2023</td>\n",
       "      <td>05:45:00</td>\n",
       "      <td>06:00:00</td>\n",
       "      <td>LineaH</td>\n",
       "      <td>LineaH_Caseros_Norte_Turn02</td>\n",
       "      <td>Caseros</td>\n",
       "      <td>0</td>\n",
       "      <td>0</td>\n",
       "      <td>1</td>\n",
       "      <td>1</td>\n",
       "    </tr>\n",
       "    <tr>\n",
       "      <th>4</th>\n",
       "      <td>1/4/2023</td>\n",
       "      <td>05:45:00</td>\n",
       "      <td>06:00:00</td>\n",
       "      <td>LineaD</td>\n",
       "      <td>LineaD_Juramento_Oeste_Turn01</td>\n",
       "      <td>Juramento</td>\n",
       "      <td>1</td>\n",
       "      <td>0</td>\n",
       "      <td>0</td>\n",
       "      <td>1</td>\n",
       "    </tr>\n",
       "  </tbody>\n",
       "</table>\n",
       "</div>"
      ],
      "text/plain": [
       "      FECHA     DESDE     HASTA   LINEA                       MOLINETE  \\\n",
       "0  1/4/2023  05:45:00  06:00:00  LineaH   LineaH_FDerecho_Norte_Turn05   \n",
       "1  1/4/2023  05:45:00  06:00:00  LineaH        LineaH_Patricios_Turn02   \n",
       "2  1/4/2023  05:45:00  06:00:00  LineaE           LineaE_Moreno_Turn02   \n",
       "3  1/4/2023  05:45:00  06:00:00  LineaH    LineaH_Caseros_Norte_Turn02   \n",
       "4  1/4/2023  05:45:00  06:00:00  LineaD  LineaD_Juramento_Oeste_Turn01   \n",
       "\n",
       "              ESTACION  pax_pagos  pax_pases_pagos  pax_franq  pax_TOTAL  \n",
       "0  Facultad de Derecho          1                0          0          1  \n",
       "1            Patricios          4                0          0          4  \n",
       "2    Jose Maria Moreno          2                0          0          2  \n",
       "3              Caseros          0                0          1          1  \n",
       "4            Juramento          1                0          0          1  "
      ]
     },
     "execution_count": 3,
     "metadata": {},
     "output_type": "execute_result"
    }
   ],
   "source": [
    "df.head()"
   ]
  },
  {
   "cell_type": "code",
   "execution_count": 4,
   "id": "12a875f7",
   "metadata": {},
   "outputs": [
    {
     "name": "stdout",
     "output_type": "stream",
     "text": [
      "      FECHA        ESTACION  pax_TOTAL\n",
      "0  1/1/2023      9 de julio        186\n",
      "1  1/1/2023          Acoyte        827\n",
      "2  1/1/2023          Agüero        673\n",
      "3  1/1/2023         Alberti        408\n",
      "4  1/1/2023  Angel Gallardo       1056\n"
     ]
    }
   ],
   "source": [
    "# Group by date and station, summing total passengers\n",
    "df_condensed = df.groupby(['FECHA', 'ESTACION'])['pax_TOTAL'].sum().reset_index()\n",
    "\n",
    "# Display the first few rows of the new condensed DataFrame\n",
    "print(df_condensed.head())"
   ]
  },
  {
   "cell_type": "code",
   "execution_count": 6,
   "id": "bacb4e06",
   "metadata": {},
   "outputs": [
    {
     "name": "stdout",
     "output_type": "stream",
     "text": [
      "       FECHA    ESTACION  pax_TOTAL\n",
      "0 2023-01-01  9 de julio        186\n",
      "1 2023-01-01     Piedras        350\n",
      "2 2023-01-01   Pichincha        362\n",
      "3 2023-01-01        Peru        452\n",
      "4 2023-01-01   Patricios        746\n"
     ]
    }
   ],
   "source": [
    "# Convert 'FECHA' to datetime format if it's not already\n",
    "df_condensed['FECHA'] = pd.to_datetime(df_condensed['FECHA'], dayfirst=True, errors='coerce')\n",
    "\n",
    "# Sort by date in ascending order\n",
    "df_condensed = df_condensed.sort_values(by='FECHA')\n",
    "\n",
    "# Reset the index after sorting\n",
    "df_condensed = df_condensed.reset_index(drop=True)\n",
    "\n",
    "# Display the sorted DataFrame\n",
    "print(df_condensed.head())\n"
   ]
  },
  {
   "cell_type": "code",
   "execution_count": 8,
   "id": "d6e65cc0",
   "metadata": {},
   "outputs": [
    {
     "name": "stdout",
     "output_type": "stream",
     "text": [
      "Missing dates in 2023:\n",
      "DatetimeIndex(['2023-08-13'], dtype='datetime64[ns]', freq='D')\n"
     ]
    }
   ],
   "source": [
    "import pandas as pd\n",
    "\n",
    "# Generate a full range of dates for 2023\n",
    "full_dates = pd.date_range(start=\"2023-01-01\", end=\"2023-12-31\")\n",
    "\n",
    "# Extract unique dates from df_condensed\n",
    "existing_dates = pd.to_datetime(df_condensed['FECHA'].unique())\n",
    "\n",
    "# Find missing dates\n",
    "missing_dates = full_dates.difference(existing_dates)\n",
    "\n",
    "# Print missing dates\n",
    "print(\"Missing dates in 2023:\")\n",
    "print(missing_dates)\n"
   ]
  },
  {
   "cell_type": "code",
   "execution_count": 11,
   "id": "57896bb0",
   "metadata": {},
   "outputs": [
    {
     "name": "stdout",
     "output_type": "stream",
     "text": [
      "       FECHA    ESTACION  pax_TOTAL\n",
      "0 2023-01-01  9 DE JULIO        186\n",
      "1 2023-01-01     PIEDRAS        350\n",
      "2 2023-01-01   PICHINCHA        362\n",
      "3 2023-01-01        PERU        452\n",
      "4 2023-01-01   PATRICIOS        746\n"
     ]
    }
   ],
   "source": [
    "# Convert station names to uppercase\n",
    "df_condensed['ESTACION'] = df_condensed['ESTACION'].str.upper()\n",
    "\n",
    "# Display the modified DataFrame\n",
    "print(df_condensed.head())\n"
   ]
  },
  {
   "cell_type": "code",
   "execution_count": 12,
   "id": "682bb7da",
   "metadata": {
    "scrolled": true
   },
   "outputs": [
    {
     "name": "stdout",
     "output_type": "stream",
     "text": [
      "\n",
      "Unique Station Names:\n",
      "9 DE JULIO\n",
      "ACOYTE\n",
      "AGÜERO\n",
      "ALBERTI\n",
      "ANGEL GALLARDO\n",
      "AVENIDA DE MAYO\n",
      "AVENIDA LA PLATA\n",
      "BOEDO\n",
      "BOLIVAR\n",
      "BULNES\n",
      "CALLAO\n",
      "CALLAO.B\n",
      "CARABOBO\n",
      "CARLOS GARDEL\n",
      "CARLOS PELLEGRINI\n",
      "CASEROS\n",
      "CASTRO BARROS\n",
      "CATALINAS\n",
      "CATEDRAL\n",
      "CONGRESO\n",
      "CONGRESO DE TUCUMAN\n",
      "CONSTITUCION\n",
      "CORDOBA\n",
      "CORREO CENTRAL\n",
      "CORRIENTES\n",
      "DIAGONAL NORTE\n",
      "DORREGO\n",
      "ECHEVERRIA\n",
      "EMILIO MITRE\n",
      "ENTRE RIOS\n",
      "FACULTAD DE DERECHO\n",
      "FACULTAD DE MEDICINA\n",
      "FEDERICO LACROZE\n",
      "FLORES\n",
      "FLORIDA\n",
      "GENERAL BELGRANO\n",
      "GENERAL SAN MARTIN\n",
      "HOSPITALES\n",
      "HUMBERTO I\n",
      "INCLAN\n",
      "INDEPENDENCIA\n",
      "INDEPENDENCIA.H\n",
      "JOSE HERNANDEZ\n",
      "JOSE MARIA MORENO\n",
      "JUJUY\n",
      "JURAMENTO\n",
      "LAS HERAS\n",
      "LAVALLE\n",
      "LEANDRO N. ALEM\n",
      "LIMA\n",
      "LORIA\n",
      "LOS INCAS\n",
      "MALABIA\n",
      "MARIANO MORENO\n",
      "MEDALLA MILAGROSA\n",
      "MEDRANO\n",
      "MINISTRO CARRANZA\n",
      "OLLEROS\n",
      "ONCE\n",
      "PALERMO\n",
      "PASCO\n",
      "PASTEUR\n",
      "PATRICIOS\n",
      "PERU\n",
      "PICHINCHA\n",
      "PIEDRAS\n",
      "PLAZA DE MAYO\n",
      "PLAZA ITALIA\n",
      "PLAZA MISERERE\n",
      "PRIMERA JUNTA\n",
      "PUAN\n",
      "PUEYRREDON\n",
      "PUEYRREDON.D\n",
      "PZA. DE LOS VIRREYES\n",
      "RETIRO\n",
      "RETIRO E\n",
      "RIO DE JANEIRO\n",
      "ROSAS\n",
      "SAENZ PEÑA \n",
      "SAN JOSE\n",
      "SAN JUAN\n",
      "SAN PEDRITO\n",
      "SANTA FE\n",
      "SCALABRINI ORTIZ\n",
      "TRIBUNALES\n",
      "TRONADOR\n",
      "URQUIZA\n",
      "URUGUAY\n",
      "VARELA\n",
      "VENEZUELA\n"
     ]
    }
   ],
   "source": [
    "# Get unique station names, convert to a sorted list\n",
    "unique_stations = sorted(df_condensed['ESTACION'].unique())\n",
    "\n",
    "# Print the list\n",
    "print(\"\\nUnique Station Names:\")\n",
    "for station in unique_stations:\n",
    "    print(station)\n"
   ]
  },
  {
   "cell_type": "code",
   "execution_count": 13,
   "id": "79086b46",
   "metadata": {
    "scrolled": true
   },
   "outputs": [
    {
     "data": {
      "text/plain": [
       "['9 DE JULIO',\n",
       " 'ACOYTE',\n",
       " 'AGUERO',\n",
       " 'ALBERTI',\n",
       " 'ANGEL GALLARDO',\n",
       " 'AV. DE MAYO',\n",
       " 'AV. LA PLATA',\n",
       " 'BELGRANO',\n",
       " 'BOEDO',\n",
       " 'BULNES',\n",
       " 'CALLAO',\n",
       " 'CALLAO - MAESTRO ALFREDO BRAVO',\n",
       " 'CARABOBO',\n",
       " 'CARLOS GARDEL',\n",
       " 'CASEROS',\n",
       " 'CASTRO BARROS',\n",
       " 'CATALINAS',\n",
       " 'CATEDRAL',\n",
       " 'CONGRESO',\n",
       " 'CONGRESO DE TUCUMAN',\n",
       " 'CONSTITUCION',\n",
       " 'CORDOBA',\n",
       " 'CORRIENTES',\n",
       " 'DE LOS INCAS PARQUE CHAS',\n",
       " 'DORREGO',\n",
       " 'ECHEVERRIA',\n",
       " 'EMILIO MITRE',\n",
       " 'ENTRE RIOS RODOLFO WALSH',\n",
       " 'F. LACROZE',\n",
       " 'FACULTAD DE DERECHO JULIETA LANTERI',\n",
       " 'FACULTAD DE MEDICINA',\n",
       " 'FLORIDA',\n",
       " 'GENERAL SAN MARTIN',\n",
       " 'GRAL. URQUIZA',\n",
       " 'HOSPITALES',\n",
       " 'INCLAN MEZQUITA AL AHMAD',\n",
       " 'INDEPENDENCIA',\n",
       " 'JOSE HERNANDEZ',\n",
       " 'JOSE MARIA MORENO',\n",
       " 'JUAN MANUEL DE ROSAS VILLA URQUIZA',\n",
       " 'JUJUY',\n",
       " 'JURAMENTO',\n",
       " 'LAS HERAS',\n",
       " 'LAVALLE',\n",
       " 'LEANDRO N. ALEM',\n",
       " 'LORIA',\n",
       " 'MALABIA O. PUGLIESE',\n",
       " 'MEDALLA MILAGROSA',\n",
       " 'MEDRANO ALMAGRO',\n",
       " 'MORENO',\n",
       " 'MTRO CARRANZA MIGUEL ABUELO',\n",
       " 'OLLEROS',\n",
       " 'PALERMO',\n",
       " 'PARQUE PATRICIOS',\n",
       " 'PASCO',\n",
       " 'PASTEUR AMIA',\n",
       " 'PICHINCHA',\n",
       " 'PIEDRAS',\n",
       " 'PLAZA DE LOS VIRREYES EVA PERON',\n",
       " 'PLAZA DE MAYO CASA ROSADA',\n",
       " 'PLAZA ITALIA',\n",
       " 'PLAZA MISERERE',\n",
       " 'PRIMERA JUNTA',\n",
       " 'PUAN',\n",
       " 'RETIRO',\n",
       " 'RIO DE JANEIRO',\n",
       " 'SAENZ PENA',\n",
       " 'SAN JOSE',\n",
       " 'SAN JOSE DE FLORES',\n",
       " 'SAN JUAN',\n",
       " 'SAN PEDRITO',\n",
       " 'SANTA FE CARLOS JAUREGUI',\n",
       " 'SCALABRINI ORTIZ',\n",
       " 'TRIBUNALES TEATRO COLON',\n",
       " 'TRONADOR VILLA ORTUZAR',\n",
       " 'URUGUAY',\n",
       " 'VARELA',\n",
       " 'VENEZUELA']"
      ]
     },
     "execution_count": 13,
     "metadata": {},
     "output_type": "execute_result"
    }
   ],
   "source": [
    "station_list"
   ]
  },
  {
   "cell_type": "code",
   "execution_count": 19,
   "id": "1189e7d7",
   "metadata": {},
   "outputs": [
    {
     "name": "stdout",
     "output_type": "stream",
     "text": [
      "       FECHA        ESTACION  pax_TOTAL\n",
      "0 2023-01-01      9 DE JULIO       2880\n",
      "1 2023-01-01          ACOYTE        827\n",
      "2 2023-01-01          AGÜERO        673\n",
      "3 2023-01-01         ALBERTI        408\n",
      "4 2023-01-01  ANGEL GALLARDO       1056\n"
     ]
    }
   ],
   "source": [
    "import pandas as pd\n",
    "\n",
    "# Make a copy of df_condensed to avoid modifying the original\n",
    "fixed_df = df_condensed.copy()\n",
    "\n",
    "# Define the station name corrections (merging certain names into their correct counterparts)\n",
    "station_merges = {\n",
    "    \"PUEYRREDON.D\": \"SANTA FE CARLOS JAUREGUI\",\n",
    "    \"PUEYRREDON\": \"CORRIENTES\",\n",
    "    \"CALLAO.B\": \"CALLAO - MAESTRO ALFREDO BRAVO\",\n",
    "    \"PERU\": \"CATEDRAL\",\n",
    "    \"BOLIVAR\": \"CATEDRAL\",\n",
    "    \"LIMA\": \"AV. DE MAYO\",\n",
    "    \"INDEPENDENCIA.H\": \"INDEPENDENCIA\",\n",
    "    \"CARLOS PELLEGRINI\": \"9 DE JULIO\",\n",
    "    \"DIAGONAL NORTE\": \"9 DE JULIO\",\n",
    "    \"RETIRO E\": \"RETIRO\",\n",
    "    \"CORREO CENTRAL\": \"LEANDRO N. ALEM\",\n",
    "    \"HUMBERTO I\": \"JUJUY\",\n",
    "    \"ONCE\": \"PLAZA MISERERE\",\n",
    "    \"URQUIZA\": \"GRAL. URQUIZA\"\n",
    "}\n",
    "\n",
    "# Replace station names with their correct counterparts\n",
    "fixed_df[\"ESTACION\"] = fixed_df[\"ESTACION\"].replace(station_merges)\n",
    "\n",
    "# Re-group by date and station to sum totals and remove old station names\n",
    "fixed_df = fixed_df.groupby([\"FECHA\", \"ESTACION\"], as_index=False).agg({\"pax_TOTAL\": \"sum\"})\n",
    "\n",
    "# Display the modified DataFrame\n",
    "print(fixed_df.head())\n"
   ]
  },
  {
   "cell_type": "code",
   "execution_count": 31,
   "id": "11b96b3a",
   "metadata": {},
   "outputs": [
    {
     "data": {
      "text/plain": [
       "78"
      ]
     },
     "execution_count": 31,
     "metadata": {},
     "output_type": "execute_result"
    }
   ],
   "source": [
    "len(unique_stations)"
   ]
  },
  {
   "cell_type": "code",
   "execution_count": 45,
   "id": "8b7b1888",
   "metadata": {},
   "outputs": [],
   "source": [
    "for i in unique_stations:\n",
    "    if i not in station_list:\n",
    "        print(i)"
   ]
  },
  {
   "cell_type": "code",
   "execution_count": 46,
   "id": "5d620e60",
   "metadata": {},
   "outputs": [],
   "source": [
    "for i in station_list:\n",
    "    if i not in unique_stations:\n",
    "        print(i)"
   ]
  },
  {
   "cell_type": "code",
   "execution_count": 23,
   "id": "f0220f13",
   "metadata": {},
   "outputs": [
    {
     "name": "stdout",
     "output_type": "stream",
     "text": [
      "       FECHA        ESTACION  pax_TOTAL\n",
      "0 2023-01-01      9 DE JULIO       2880\n",
      "1 2023-01-01          ACOYTE        827\n",
      "2 2023-01-01          AGÜERO        673\n",
      "3 2023-01-01         ALBERTI        408\n",
      "4 2023-01-01  ANGEL GALLARDO       1056\n"
     ]
    }
   ],
   "source": [
    "# Define the remaining name corrections (spelling, abbreviations, full names)\n",
    "name_fixes = {\n",
    "    \"AVENIDA DE MAYO\": \"AV. DE MAYO\",\n",
    "    \"AVENIDA LA PLATA\": \"AV. LA PLATA\",\n",
    "    \"MTRO CARRANZA\": \"MTRO CARRANZA MIGUEL ABUELO\",\n",
    "    \"PZA. DE LOS VIRREYES\": \"PLAZA DE LOS VIRREYES EVA PERON\",\n",
    "    \"PLAZA DE MAYO\": \"PLAZA DE MAYO CASA ROSADA\",\n",
    "    \"INCLAN\": \"INCLAN MEZQUITA AL AHMAD\",\n",
    "    \"PASTEUR\": \"PASTEUR AMIA\",\n",
    "    \"TRIBUNALES\": \"TRIBUNALES TEATRO COLON\",\n",
    "    \"DE LOS INCAS\": \"DE LOS INCAS PARQUE CHAS\",\n",
    "    \"JUAN MANUEL DE ROSAS\": \"JUAN MANUEL DE ROSAS VILLA URQUIZA\",\n",
    "    \"ENTRE RIOS\": \"ENTRE RIOS RODOLFO WALSH\",\n",
    "    \"MORENO\": \"MARIANO MORENO\"\n",
    "}\n",
    "\n",
    "# Apply the renaming\n",
    "fixed_df[\"ESTACION\"] = fixed_df[\"ESTACION\"].replace(name_fixes)\n",
    "\n",
    "# Display the cleaned DataFrame\n",
    "print(fixed_df.head())\n"
   ]
  },
  {
   "cell_type": "code",
   "execution_count": 29,
   "id": "568802bb",
   "metadata": {},
   "outputs": [
    {
     "name": "stdout",
     "output_type": "stream",
     "text": [
      "       FECHA        ESTACION  pax_TOTAL\n",
      "0 2023-01-01      9 DE JULIO       2880\n",
      "1 2023-01-01          ACOYTE        827\n",
      "2 2023-01-01          AGUERO        673\n",
      "3 2023-01-01         ALBERTI        408\n",
      "4 2023-01-01  ANGEL GALLARDO       1056\n"
     ]
    }
   ],
   "source": [
    "# Ensure all name fixes are correctly applied, including SANTA FE\n",
    "final_name_fixes = {\n",
    "    \"AGÜERO\": \"AGUERO\",\n",
    "    \"FACULTAD DE DERECHO\": \"FACULTAD DE DERECHO JULIETA LANTERI\",\n",
    "    \"FEDERICO LACROZE\": \"F. LACROZE\",\n",
    "    \"GENERAL BELGRANO\": \"BELGRANO\",\n",
    "    \"LOS INCAS\": \"DE LOS INCAS PARQUE CHAS\",\n",
    "    \"MALABIA\": \"MALABIA O. PUGLIESE\",\n",
    "    \"MARIANO MORENO\": \"MORENO\",\n",
    "    \"MEDRANO\": \"MEDRANO ALMAGRO\",\n",
    "    \"MINISTRO CARRANZA\": \"MTRO CARRANZA MIGUEL ABUELO\",\n",
    "    \"PATRICIOS\": \"PARQUE PATRICIOS\",\n",
    "    \"ROSAS\": \"JUAN MANUEL DE ROSAS VILLA URQUIZA\",\n",
    "    \"SAENZ PEÑA\": \"SAENZ PENA\",\n",
    "    \"SANTA FE\": \"SANTA FE CARLOS JAUREGUI\",  # Ensuring Santa Fe is merged properly\n",
    "    \"TRONADOR\": \"TRONADOR VILLA ORTUZAR\",\n",
    "    \"FLORES\": \"SAN JOSE DE FLORES\"\n",
    "}\n",
    "\n",
    "# Apply renaming\n",
    "fixed_df[\"ESTACION\"] = fixed_df[\"ESTACION\"].replace(final_name_fixes)\n",
    "\n",
    "# Re-group to combine totals for merged names\n",
    "fixed_df = fixed_df.groupby([\"FECHA\", \"ESTACION\"], as_index=False).agg({\"pax_TOTAL\": \"sum\"})\n",
    "\n",
    "# Display the final, corrected DataFrame\n",
    "print(fixed_df.head())\n"
   ]
  },
  {
   "cell_type": "code",
   "execution_count": 43,
   "id": "e6a0de73",
   "metadata": {},
   "outputs": [
    {
     "name": "stdout",
     "output_type": "stream",
     "text": [
      "       FECHA        ESTACION  pax_TOTAL\n",
      "0 2023-01-01      9 DE JULIO       2880\n",
      "1 2023-01-01          ACOYTE        827\n",
      "2 2023-01-01          AGUERO        673\n",
      "3 2023-01-01         ALBERTI        408\n",
      "4 2023-01-01  ANGEL GALLARDO       1056\n"
     ]
    }
   ],
   "source": [
    "# Apply the last correction\n",
    "fixed_df[\"ESTACION\"] = fixed_df[\"ESTACION\"].replace({\"SAENZ PEÑA \": \"SAENZ PENA\"})\n",
    "\n",
    "# Re-group to merge any remaining duplicate station entries\n",
    "fixed_df = fixed_df.groupby([\"FECHA\", \"ESTACION\"], as_index=False).agg({\"pax_TOTAL\": \"sum\"})\n",
    "\n",
    "# Display the fully corrected DataFrame\n",
    "print(fixed_df.head())\n"
   ]
  },
  {
   "cell_type": "code",
   "execution_count": 44,
   "id": "a4ca3e19",
   "metadata": {
    "scrolled": true
   },
   "outputs": [
    {
     "name": "stdout",
     "output_type": "stream",
     "text": [
      "\n",
      "Unique Station Names:\n",
      "9 DE JULIO\n",
      "ACOYTE\n",
      "AGUERO\n",
      "ALBERTI\n",
      "ANGEL GALLARDO\n",
      "AV. DE MAYO\n",
      "AV. LA PLATA\n",
      "BELGRANO\n",
      "BOEDO\n",
      "BULNES\n",
      "CALLAO\n",
      "CALLAO - MAESTRO ALFREDO BRAVO\n",
      "CARABOBO\n",
      "CARLOS GARDEL\n",
      "CASEROS\n",
      "CASTRO BARROS\n",
      "CATALINAS\n",
      "CATEDRAL\n",
      "CONGRESO\n",
      "CONGRESO DE TUCUMAN\n",
      "CONSTITUCION\n",
      "CORDOBA\n",
      "CORRIENTES\n",
      "DE LOS INCAS PARQUE CHAS\n",
      "DORREGO\n",
      "ECHEVERRIA\n",
      "EMILIO MITRE\n",
      "ENTRE RIOS RODOLFO WALSH\n",
      "F. LACROZE\n",
      "FACULTAD DE DERECHO JULIETA LANTERI\n",
      "FACULTAD DE MEDICINA\n",
      "FLORIDA\n",
      "GENERAL SAN MARTIN\n",
      "GRAL. URQUIZA\n",
      "HOSPITALES\n",
      "INCLAN MEZQUITA AL AHMAD\n",
      "INDEPENDENCIA\n",
      "JOSE HERNANDEZ\n",
      "JOSE MARIA MORENO\n",
      "JUAN MANUEL DE ROSAS VILLA URQUIZA\n",
      "JUJUY\n",
      "JURAMENTO\n",
      "LAS HERAS\n",
      "LAVALLE\n",
      "LEANDRO N. ALEM\n",
      "LORIA\n",
      "MALABIA O. PUGLIESE\n",
      "MEDALLA MILAGROSA\n",
      "MEDRANO ALMAGRO\n",
      "MORENO\n",
      "MTRO CARRANZA MIGUEL ABUELO\n",
      "OLLEROS\n",
      "PALERMO\n",
      "PARQUE PATRICIOS\n",
      "PASCO\n",
      "PASTEUR AMIA\n",
      "PICHINCHA\n",
      "PIEDRAS\n",
      "PLAZA DE LOS VIRREYES EVA PERON\n",
      "PLAZA DE MAYO CASA ROSADA\n",
      "PLAZA ITALIA\n",
      "PLAZA MISERERE\n",
      "PRIMERA JUNTA\n",
      "PUAN\n",
      "RETIRO\n",
      "RIO DE JANEIRO\n",
      "SAENZ PENA\n",
      "SAN JOSE\n",
      "SAN JOSE DE FLORES\n",
      "SAN JUAN\n",
      "SAN PEDRITO\n",
      "SANTA FE CARLOS JAUREGUI\n",
      "SCALABRINI ORTIZ\n",
      "TRIBUNALES TEATRO COLON\n",
      "TRONADOR VILLA ORTUZAR\n",
      "URUGUAY\n",
      "VARELA\n",
      "VENEZUELA\n"
     ]
    }
   ],
   "source": [
    "# Get unique station names, convert to a sorted list\n",
    "unique_stations = sorted(fixed_df['ESTACION'].unique())\n",
    "\n",
    "# Print the list\n",
    "print(\"\\nUnique Station Names:\")\n",
    "for station in unique_stations:\n",
    "    print(station)\n"
   ]
  },
  {
   "cell_type": "code",
   "execution_count": 47,
   "id": "db5ab1e0",
   "metadata": {},
   "outputs": [],
   "source": [
    "fixed_df.to_csv(\"BA_Turnstile_Fixed.csv\", index=False)"
   ]
  }
 ],
 "metadata": {
  "kernelspec": {
   "display_name": "Python 3 (ipykernel)",
   "language": "python",
   "name": "python3"
  },
  "language_info": {
   "codemirror_mode": {
    "name": "ipython",
    "version": 3
   },
   "file_extension": ".py",
   "mimetype": "text/x-python",
   "name": "python",
   "nbconvert_exporter": "python",
   "pygments_lexer": "ipython3",
   "version": "3.12.3"
  }
 },
 "nbformat": 4,
 "nbformat_minor": 5
}
